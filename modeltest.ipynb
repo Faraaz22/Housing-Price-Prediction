{
 "cells": [
  {
   "cell_type": "code",
   "execution_count": 5,
   "id": "da868bdb-adcb-4d0b-b539-9beb29ad9a85",
   "metadata": {},
   "outputs": [],
   "source": [
    "from joblib import dump,load\n",
    "model = load('HousePredict.joblib')"
   ]
  },
  {
   "cell_type": "code",
   "execution_count": 8,
   "id": "9107f26e-dbdf-4c84-ac06-c56c9e153074",
   "metadata": {},
   "outputs": [
    {
     "data": {
      "text/plain": [
       "array([21.9])"
      ]
     },
     "execution_count": 8,
     "metadata": {},
     "output_type": "execute_result"
    }
   ],
   "source": [
    "import numpy as np\n",
    "features = np.array([[5.69444637e-04, 8.00000000e-01, 1.07407407e-01, 0.00000000e+00,\n",
    "       6.22406639e-03, 4.88024526e-01, 2.99691040e-01, 7.35725523e-01,\n",
    "       0.00000000e+00, 2.44274809e-01, 3.77777778e-01, 9.89888547e-01,\n",
    "       1.37304965e-01]])\n",
    "model.predict(features)"
   ]
  },
  {
   "cell_type": "code",
   "execution_count": null,
   "id": "ef302309-7ff9-4cf4-bfff-84ff0e1d9cc6",
   "metadata": {},
   "outputs": [],
   "source": []
  }
 ],
 "metadata": {
  "kernelspec": {
   "display_name": "Python 3 (ipykernel)",
   "language": "python",
   "name": "python3"
  },
  "language_info": {
   "codemirror_mode": {
    "name": "ipython",
    "version": 3
   },
   "file_extension": ".py",
   "mimetype": "text/x-python",
   "name": "python",
   "nbconvert_exporter": "python",
   "pygments_lexer": "ipython3",
   "version": "3.10.5"
  }
 },
 "nbformat": 4,
 "nbformat_minor": 5
}
